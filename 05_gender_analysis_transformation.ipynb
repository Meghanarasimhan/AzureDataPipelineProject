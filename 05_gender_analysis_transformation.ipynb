{
 "cells": [
  {
   "cell_type": "code",
   "execution_count": 0,
   "metadata": {
    "application/vnd.databricks.v1+cell": {
     "cellMetadata": {
      "byteLimit": 2048000,
      "rowLimit": 10000
     },
     "inputWidgets": {},
     "nuid": "20894c7a-8664-465b-86bf-eb899549c0fc",
     "showTitle": false,
     "tableResultSettingsMap": {},
     "title": ""
    }
   },
   "outputs": [],
   "source": [
    "%load_ext autoreload\n",
    "%autoreload 2\n",
    "# Enables autoreload; learn more at https://docs.databricks.com/en/files/workspace-modules.html#autoreload-for-python-modules\n",
    "# To disable autoreload; run %autoreload 0"
   ]
  },
  {
   "cell_type": "code",
   "execution_count": 0,
   "metadata": {
    "application/vnd.databricks.v1+cell": {
     "cellMetadata": {
      "byteLimit": 2048000,
      "rowLimit": 10000
     },
     "inputWidgets": {},
     "nuid": "e406e660-08b3-4bf7-a7c7-0099f52d788d",
     "showTitle": false,
     "tableResultSettingsMap": {},
     "title": ""
    }
   },
   "outputs": [],
   "source": [
    "\n",
    "import sys\n",
    "sys.path.append('/Workspace/Users/pmanoj@depaul.edu')\n",
    "from config import config\n",
    "\n",
    "from pyspark.sql.functions import *\n",
    "from pyspark.sql.window import Window\n",
    "import logging\n",
    "\n",
    "logging.basicConfig(level=logging.INFO)\n",
    "logger = logging.getLogger(__name__)\n"
   ]
  },
  {
   "cell_type": "code",
   "execution_count": 0,
   "metadata": {
    "application/vnd.databricks.v1+cell": {
     "cellMetadata": {
      "byteLimit": 2048000,
      "rowLimit": 10000
     },
     "inputWidgets": {},
     "nuid": "4d757467-e38a-4446-94b9-ecc4f31ad356",
     "showTitle": false,
     "tableResultSettingsMap": {},
     "title": ""
    }
   },
   "outputs": [],
   "source": [
    "%run \"./02_data_loaders\""
   ]
  },
  {
   "cell_type": "code",
   "execution_count": 0,
   "metadata": {
    "application/vnd.databricks.v1+cell": {
     "cellMetadata": {
      "byteLimit": 2048000,
      "rowLimit": 10000
     },
     "inputWidgets": {},
     "nuid": "c333a70b-c9fa-4322-9708-7ad60492f1ee",
     "showTitle": false,
     "tableResultSettingsMap": {},
     "title": ""
    }
   },
   "outputs": [],
   "source": [
    "def analyze_gender_participation(gender_df, config):\n",
    "    \"\"\"\n",
    "    This function takes in the gender_df and config and returns a Spark DataFrame with the following columns:\n",
    "    \"\"\"\n",
    "    try:\n",
    "        logger.info(\"Starting the Gender analysis Pipeline\")\n",
    "\n",
    "        GenderMetrics = gender_df.withColumn(\n",
    "            \"FemalePercentage\",\n",
    "            (col(\"Female\") / col(\"Total\")) * 100\n",
    "        ).withColumn(\n",
    "            \"MalePercentage\",\n",
    "            (col(\"Male\") / col(\"Total\")) * 100\n",
    "        ).withColumn(\n",
    "            \"GenderGap\",\n",
    "            abs(col(\"FemalePercentage\") - col(\"MalePercentage\"))\n",
    "        ).withColumn(\n",
    "            \"genderCategory\",\n",
    "            when(col(\"FemalePercentage\") > col(\"malePercentage\"), \"Female Dominant\")\n",
    "            .when(col(\"malePercentage\") == col(\"FemalePercentage\"), \"Balanced\")\n",
    "            .otherwise(\"Male Dominant\")\n",
    "        ).withColumn(\n",
    "            \"SportSizeRank\", \n",
    "            dense_rank().over(Window.orderBy(col(\"Total\").desc()))\n",
    "        ).withColumn(\n",
    "            \"SportSizeCategory\",\n",
    "            when(col(\"SportSizeRank\") <= 10, \"Large Sport\")\n",
    "            .when(col(\"SportSizeRank\") <= 20, \"Medium Sport\") \n",
    "            .otherwise(\"Small Sport\")\n",
    "        ).withColumn(\n",
    "            \"OpportunityType\",\n",
    "            when((col(\"FemalePercentage\") >= 55) & (col(\"SportSizeCategory\") == \"Large Sport\"), \"High Female Opportunity\")\n",
    "            .when((col(\"MalePercentage\") >= 55) & (col(\"SportSizeCategory\") == \"Large Sport\"), \"High Male Opportunity\")\n",
    "            .when((col(\"FemalePercentage\") >= 60) & (col(\"SportSizeCategory\") == \"Medium Sport\"), \"Medium Female Opportunity\")\n",
    "            .when((col(\"MalePercentage\") >= 60) & (col(\"SportSizeCategory\") == \"Medium Sport\"), \"Medium Male Opportunity\")\n",
    "            .when(col(\"FemalePercentage\").between(45, 55), \"Balanced Competition\")\n",
    "            .otherwise(\"Standard Competition\")\n",
    "        )\n",
    "\n",
    "        if config.CACHE_DATAFRAMES:\n",
    "            GenderMetrics.cache()\n",
    "\n",
    "        return GenderMetrics\n",
    "    except Exception as e:\n",
    "        logger.error(f\"Error in analyze_gender_participation: {e}\")\n",
    "        raise\n"
   ]
  },
  {
   "cell_type": "code",
   "execution_count": 0,
   "metadata": {
    "application/vnd.databricks.v1+cell": {
     "cellMetadata": {
      "byteLimit": 2048000,
      "rowLimit": 10000
     },
     "inputWidgets": {},
     "nuid": "32902979-163c-423b-b4af-6c3293dad663",
     "showTitle": false,
     "tableResultSettingsMap": {},
     "title": ""
    }
   },
   "outputs": [],
   "source": [
    "\n",
    "try:\n",
    "    \n",
    "    logger.info(\"EXECUTING GENDER ANALYSIS PIPELINE\")\n",
    " \n",
    "    gender_analysis_results = analyze_gender_participation(gender_df, config)\n",
    "    \n",
    "    print(\"=== GENDER ANALYSIS RESULTS ===\")\n",
    "    print(f\"Total sports analyzed: {gender_analysis_results.count()}\")\n",
    "    \n",
    "    print(\"\\n=== TOP 10 MOST IMBALANCED SPORTS ===\")\n",
    "    gender_analysis_results.orderBy(col(\"GenderGap\").desc()).show(10)\n",
    "    \n",
    "    print(\"\\n=== GENDER CATEGORY BREAKDOWN ===\")\n",
    "    gender_analysis_results.groupBy(\"genderCategory\").count().orderBy(col(\"count\").desc()).show()\n",
    "    \n",
    "    print(\"\\n=== OPPORTUNITY SPORTS ===\")\n",
    "    print(\"High opportunity sports for strategic planning:\")\n",
    "    gender_analysis_results.filter(\n",
    "        col(\"OpportunityType\").contains(\"Opportunity\")\n",
    "    ).orderBy(col(\"Total\").desc()).show()\n",
    "    \n",
    "    print(\"\\n=== FEMALE-DOMINATED LARGE SPORTS ===\")\n",
    "    print(\"Sports where women dominate in major competitions:\")\n",
    "    gender_analysis_results.filter(\n",
    "        (col(\"GenderCategory\") == \"Female Dominated\") & \n",
    "        (col(\"SportSizeCategory\") == \"Large Sport\")\n",
    "    ).show()\n",
    "    \n",
    "    print(\"\\n=== MALE-DOMINATED LARGE SPORTS ===\")\n",
    "    print(\"Sports where men dominate in major competitions:\")\n",
    "    gender_analysis_results.filter(\n",
    "        (col(\"GenderCategory\") == \"Male Dominated\") & \n",
    "        (col(\"SportSizeCategory\") == \"Large Sport\")\n",
    "    ).show()\n",
    "    \n",
    "    print(\"\\n=== BALANCED SPORTS (EQUAL OPPORTUNITY) ===\")\n",
    "    print(\"Sports with gender balance - equal competition:\")\n",
    "    gender_analysis_results.filter(\n",
    "        col(\"GenderCategory\") == \"Balanced\"\n",
    "    ).orderBy(col(\"Total\").desc()).show()\n",
    "    \n",
    "    logger.info(\"Gender analysis pipeline completed successfully\")\n",
    "    \n",
    "except Exception as e:\n",
    "    logger.error(f\"Pipeline execution failed: {e}\")\n",
    "    raise"
   ]
  },
  {
   "cell_type": "code",
   "execution_count": 0,
   "metadata": {
    "application/vnd.databricks.v1+cell": {
     "cellMetadata": {
      "byteLimit": 2048000,
      "rowLimit": 10000
     },
     "inputWidgets": {},
     "nuid": "a86fd55e-d13e-4484-8ac1-8397c74dfa0c",
     "showTitle": false,
     "tableResultSettingsMap": {},
     "title": ""
    }
   },
   "outputs": [],
   "source": [
    "print(\" LARGE SPORTS BY GENDER \")\n",
    "gender_analysis_results.filter(col(\"SportSizeCategory\") == \"Large Sport\").select(\n",
    "    \"Discipline\", \"FemalePercentage\", \"MalePercentage\", \"genderCategory\", \"SportSizeRank\"\n",
    ").orderBy(\"SportSizeRank\").show()\n",
    "\n",
    "print(\"ALL MALE DOMINATED SPORTS \")\n",
    "gender_analysis_results.filter(col(\"genderCategory\") == \"Male Dominant\").select(\n",
    "    \"Discipline\", \"SportSizeCategory\", \"MalePercentage\"\n",
    ").orderBy(col(\"MalePercentage\").desc()).show()\n",
    "\n",
    "print(\"ALL FEMALE DOMINATED SPORTS \")\n",
    "gender_analysis_results.filter(col(\"genderCategory\") == \"Female Dominant\").select(\n",
    "    \"Discipline\", \"SportSizeCategory\", \"FemalePercentage\"\n",
    ").show()"
   ]
  }
 ],
 "metadata": {
  "application/vnd.databricks.v1+notebook": {
   "computePreferences": null,
   "dashboards": [],
   "environmentMetadata": {
    "base_environment": "",
    "environment_version": "2"
   },
   "inputWidgetPreferences": null,
   "language": "python",
   "notebookMetadata": {
    "pythonIndentUnit": 4
   },
   "notebookName": "05_gender_analysis_transformation",
   "widgets": {}
  },
  "language_info": {
   "name": "python"
  }
 },
 "nbformat": 4,
 "nbformat_minor": 0
}
