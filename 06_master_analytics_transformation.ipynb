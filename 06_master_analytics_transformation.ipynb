{
 "cells": [
  {
   "cell_type": "code",
   "execution_count": 0,
   "metadata": {
    "application/vnd.databricks.v1+cell": {
     "cellMetadata": {
      "byteLimit": 2048000,
      "rowLimit": 10000
     },
     "inputWidgets": {},
     "nuid": "c6161eb9-72c7-4ec3-97fc-68c58d54b744",
     "showTitle": false,
     "tableResultSettingsMap": {},
     "title": ""
    }
   },
   "outputs": [],
   "source": [
    "import sys\n",
    "sys.path.append('/Workspace/Users/pmanoj@depaul.edu')\n",
    "from config import config\n",
    "\n",
    "from pyspark.sql.functions import *\n",
    "from pyspark.sql.window import Window\n",
    "import logging\n",
    "\n",
    "logging.basicConfig(level=logging.INFO)\n",
    "logger = logging.getLogger(__name__)"
   ]
  },
  {
   "cell_type": "code",
   "execution_count": 0,
   "metadata": {
    "application/vnd.databricks.v1+cell": {
     "cellMetadata": {
      "byteLimit": 2048000,
      "rowLimit": 10000
     },
     "inputWidgets": {},
     "nuid": "77703aa6-9d74-46bd-a632-4c28b550f7aa",
     "showTitle": false,
     "tableResultSettingsMap": {},
     "title": ""
    }
   },
   "outputs": [],
   "source": [
    "%run \"./03_medal_efficiency_transformation\""
   ]
  },
  {
   "cell_type": "code",
   "execution_count": 0,
   "metadata": {
    "application/vnd.databricks.v1+cell": {
     "cellMetadata": {
      "byteLimit": 2048000,
      "rowLimit": 10000
     },
     "inputWidgets": {},
     "nuid": "1f96b731-3edd-4867-b495-2f882df225a0",
     "showTitle": false,
     "tableResultSettingsMap": {},
     "title": ""
    }
   },
   "outputs": [],
   "source": [
    "%run \"./04_sport_dominance_transformation\""
   ]
  },
  {
   "cell_type": "code",
   "execution_count": 0,
   "metadata": {
    "application/vnd.databricks.v1+cell": {
     "cellMetadata": {
      "byteLimit": 2048000,
      "rowLimit": 10000
     },
     "inputWidgets": {},
     "nuid": "12aa1f36-c42d-4a33-9e50-6cd9765ca539",
     "showTitle": false,
     "tableResultSettingsMap": {},
     "title": ""
    }
   },
   "outputs": [],
   "source": [
    "%run \"./05_gender_analysis_transformation\""
   ]
  },
  {
   "cell_type": "code",
   "execution_count": 0,
   "metadata": {
    "application/vnd.databricks.v1+cell": {
     "cellMetadata": {
      "byteLimit": 2048000,
      "rowLimit": 10000
     },
     "inputWidgets": {},
     "nuid": "61826a51-b761-42a7-a59e-bca2d9968d7f",
     "showTitle": false,
     "tableResultSettingsMap": {},
     "title": ""
    }
   },
   "outputs": [],
   "source": [
    "def create_master_analytics(athletes_df, medals_df, gender_df, config):\n",
    "    \"\"\"\n",
    "    Create comprehensive analytics dataset combining all transformations.\n",
    "    \n",
    "    Args:\n",
    "        athletes_df: Athletes DataFrame\n",
    "        medals_df: Medals DataFrame  \n",
    "        gender_df: Gender DataFrame\n",
    "        config: Configuration object\n",
    "        \n",
    "    Returns:\n",
    "        Dictionary with master datasets for Power BI\n",
    "    \"\"\"\n",
    "    try:\n",
    "        logger.info(\"Starting create_master_analytics\")\n",
    "\n",
    "        medal_efficiency = calculate_medal_efficiency(athletes_df, medals_df, config)\n",
    "        sport_dominance = calculate_sport_dominance(athletes_df, config)\n",
    "        gender_analysis = analyze_gender_participation(gender_df, config)\n",
    "        \n",
    "        logger.info(\"Creating country-level master dataset...\")\n",
    "\n",
    "        country_master = medal_efficiency.select(\n",
    "            \"Country\",\n",
    "            \"TotalAthletes\",\n",
    "            \"Gold\", \"Silver\", \"Bronze\", \"Total\",\n",
    "            \"MedalsPerAthlete\",\n",
    "            \"MedalEfficiencyScore\"\n",
    "        )\n",
    "        print(\"=== SPORT DOMINANCE COLUMNS ===\")\n",
    "        sport_dominance.columns\n",
    "        sport_dominance.show(5)\n",
    "\n",
    "        sport_diversity = sport_dominance.groupBy(\"Country\").agg(\n",
    "            countDistinct(\"Discipline\").alias(\"Sports\"),\n",
    "            max(col(\"SportDominanceEfficiencyPercent\")).alias(\"MaxSportConcentration\"),\n",
    "            avg(col(\"SportDominanceEfficiencyPercent\")).alias(\"AvgSportConcentration\"),\n",
    "            \n",
    "        )\n",
    "        \n",
    "\n",
    "        country_master = country_master.join(sport_diversity, \"Country\", \"inner\").select(\n",
    "            \"Country\",\n",
    "            \"TotalAthletes\", \n",
    "            \"Gold\", \"Silver\", \"Bronze\", \"Total\",\n",
    "            \"MedalsPerAthlete\",\n",
    "            \"MedalEfficiencyScore\",\n",
    "            \"Sports\",\n",
    "            sport_diversity[\"MaxSportConcentration\"].alias(\"MaxSportConcentration\"), \n",
    "            sport_diversity[\"AvgSportConcentration\"].alias(\"AvgSportConcentration\")   \n",
    "        )\n",
    "\n",
    "        country_master = country_master.withColumn(\n",
    "            \"OverallPerformanceScore\",\n",
    "            round(\n",
    "                (col(\"Total\") * 0.4) +                    \n",
    "                (col(\"MedalsPerAthlete\") * 100 * 0.3) +   \n",
    "                (col(\"Sports\") * 0.2) +              \n",
    "                ((100 - col(\"MaxSportConcentration\")) * 0.1), \n",
    "                2\n",
    "            )\n",
    "        ).withColumn(\n",
    "            \"PerformanceCategory\",\n",
    "            when(col(\"OverallPerformanceScore\") >= 50, \"Elite\")\n",
    "            .when(col(\"OverallPerformanceScore\") >= 25, \"Strong\")\n",
    "            .when(col(\"OverallPerformanceScore\") >= 10, \"Developing\")\n",
    "            .otherwise(\"Emerging\")\n",
    "        )\n",
    "\n",
    "        logger.info(\"Creating sport-level master dataset...\")\n",
    "        \n",
    "        sport_master = gender_analysis.select(\n",
    "            \"Discipline\",\n",
    "            \"Female\", \"Male\", \"Total\",\n",
    "            \"FemalePercentage\", \"MalePercentage\", \"GenderGap\",\n",
    "            \"genderCategory\", \"SportSizeRank\", \"SportSizeCategory\", \"OpportunityType\"\n",
    "        )\n",
    "        \n",
    "        dominance_summary = sport_dominance.groupBy(\"Discipline\").agg(\n",
    "            count(\"Country\").alias(\"CountriesParticipating\"),\n",
    "            avg(\"SportDominanceEfficiencyPercent\").alias(\"AvgConcentrationPct\"),\n",
    "            max(\"SportDominanceEfficiencyPercent\").alias(\"MaxConcentrationPct\"),\n",
    "            countDistinct(when(col(\"IsSpecialized\") == True, col(\"Country\"))).alias(\"SpecializedCountries\")\n",
    "        )\n",
    "        \n",
    "        sport_master = sport_master.join(dominance_summary, \"Discipline\", \"left\")\n",
    "        \n",
    "        sport_master = sport_master.withColumn(\n",
    "            \"StrategicRecommendation\",\n",
    "            when((col(\"genderCategory\") == \"Female Dominant\") & (col(\"SportSizeCategory\") == \"Large Sport\"), \n",
    "                 \"High Female Investment Priority\")\n",
    "            .when((col(\"genderCategory\") == \"Male Dominant\") & (col(\"SportSizeCategory\") == \"Large Sport\"), \n",
    "                 \"High Male Investment Priority\")\n",
    "            .when(col(\"MaxConcentrationPct\") >= 50, \"High Competition - Avoid or Excel\")\n",
    "            .when(col(\"genderCategory\") == \"Balanced\", \"Equal Opportunity - Requires Excellence\")\n",
    "            .otherwise(\"Standard Strategic Approach\")\n",
    "        )\n",
    "        \n",
    "        logger.info(\"Creating executive summary...\")\n",
    "        \n",
    "        executive_summary = country_master.agg(\n",
    "            count(\"Country\").alias(\"TotalCountries\"),\n",
    "            sum(\"Total\").alias(\"TotalMedalsAwarded\"),\n",
    "            avg(\"MedalsPerAthlete\").alias(\"GlobalAvgEfficiency\"),\n",
    "            countDistinct(when(col(\"MedalEfficiencyScore\") == \"High\", col(\"Country\"))).alias(\"HighEfficiencyCountries\"),\n",
    "            countDistinct(when(col(\"PerformanceCategory\") == \"Elite\", col(\"Country\"))).alias(\"EliteCountries\")\n",
    "        ).withColumn(\"AnalysisDate\", current_date())\n",
    "        \n",
    "        if config.CACHE_DATAFRAMES:\n",
    "            country_master.cache()\n",
    "            sport_master.cache()\n",
    "            executive_summary.cache()\n",
    "            logger.info(\"All master datasets cached\")\n",
    "\n",
    "        master_datasets = {\n",
    "            \"country_analytics\": country_master,\n",
    "            \"sport_analytics\": sport_master,\n",
    "            \"executive_summary\": executive_summary,\n",
    "            \"medal_efficiency\": medal_efficiency,\n",
    "            \"sport_dominance\": sport_dominance,\n",
    "            \"gender_analysis\": gender_analysis\n",
    "        }\n",
    "\n",
    "        logger.info(\"Master analytics creation completed successfully\")\n",
    "        logger.info(f\"Created {len(master_datasets)} comprehensive datasets\")\n",
    "\n",
    "        return master_datasets\n",
    "    \n",
    "    except Exception as e:\n",
    "        logger.error(f\"Master analytics creation failed: {str(e)}\")\n",
    "        raise"
   ]
  },
  {
   "cell_type": "code",
   "execution_count": 0,
   "metadata": {
    "application/vnd.databricks.v1+cell": {
     "cellMetadata": {
      "byteLimit": 2048000,
      "rowLimit": 10000
     },
     "inputWidgets": {},
     "nuid": "9437d861-f908-433b-9328-b065bf136828",
     "showTitle": false,
     "tableResultSettingsMap": {},
     "title": ""
    }
   },
   "outputs": [],
   "source": [
    "try:\n",
    "    logger.info(\"EXECUTING MASTER ANALYTICS PIPELINE\")\n",
    "    \n",
    "    master_data = create_master_analytics(athletes_df, medals_df, gender_df, config)\n",
    "    \n",
    "    print(\" MASTER ANALYTICS RESULTS\")\n",
    "    print(f\"Generated {len(master_data)} comprehensive datasets\")\n",
    "    \n",
    "    print(\"\\n COUNTRY ANALYTICS SAMPLE\")\n",
    "    master_data[\"country_analytics\"].orderBy(col(\"OverallPerformanceScore\").desc()).show(10)\n",
    "    \n",
    "    print(\"\\nSPORT ANALYTICS SAMPLE\")\n",
    "    master_data[\"sport_analytics\"].orderBy(col(\"SportSizeRank\")).show(10)\n",
    "    \n",
    "    print(\"\\n EXECUTIVE SUMMARY\")\n",
    "    master_data[\"executive_summary\"].show()\n",
    "    \n",
    "    print(\"\\n PERFORMANCE CATEGORY BREAKDOWN\")\n",
    "    master_data[\"country_analytics\"].groupBy(\"PerformanceCategory\").count().show()\n",
    "    \n",
    "    logger.info(\"Master analytics pipeline completed successfully\")\n",
    "    \n",
    "except Exception as e:\n",
    "    logger.error(f\"Master pipeline failed: {e}\")\n",
    "    raise"
   ]
  }
 ],
 "metadata": {
  "application/vnd.databricks.v1+notebook": {
   "computePreferences": null,
   "dashboards": [],
   "environmentMetadata": {
    "base_environment": "",
    "environment_version": "2"
   },
   "inputWidgetPreferences": null,
   "language": "python",
   "notebookMetadata": {
    "pythonIndentUnit": 4
   },
   "notebookName": "06_master_analytics_transformation",
   "widgets": {}
  },
  "language_info": {
   "name": "python"
  }
 },
 "nbformat": 4,
 "nbformat_minor": 0
}
