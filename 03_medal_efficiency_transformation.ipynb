{
 "cells": [
  {
   "cell_type": "code",
   "execution_count": 0,
   "metadata": {
    "application/vnd.databricks.v1+cell": {
     "cellMetadata": {
      "byteLimit": 2048000,
      "rowLimit": 10000
     },
     "inputWidgets": {},
     "nuid": "c81fbd14-88a8-4555-a93e-72d89b211422",
     "showTitle": false,
     "tableResultSettingsMap": {},
     "title": ""
    }
   },
   "outputs": [],
   "source": [
    "import sys\n",
    "sys.path.append('/Workspace/Users/pmanoj@depaul.edu')\n",
    "from config import config\n",
    "from pyspark.sql.functions import *\n",
    "from pyspark.sql.window import *\n",
    "import logging\n",
    "logging.basicConfig(level=logging.INFO)\n",
    "logger = logging.getLogger(__name__)"
   ]
  },
  {
   "cell_type": "code",
   "execution_count": 0,
   "metadata": {
    "application/vnd.databricks.v1+cell": {
     "cellMetadata": {
      "byteLimit": 2048000,
      "rowLimit": 10000
     },
     "inputWidgets": {},
     "nuid": "c072c970-8d27-485d-88df-b3aefe8c0b73",
     "showTitle": false,
     "tableResultSettingsMap": {},
     "title": ""
    }
   },
   "outputs": [],
   "source": [
    "%run \"./02_data_loaders\""
   ]
  },
  {
   "cell_type": "code",
   "execution_count": 0,
   "metadata": {
    "application/vnd.databricks.v1+cell": {
     "cellMetadata": {
      "byteLimit": 2048000,
      "rowLimit": 10000
     },
     "inputWidgets": {},
     "nuid": "9ce9bfcf-4c7c-4501-9d5c-a126bb2a81a3",
     "showTitle": false,
     "tableResultSettingsMap": {},
     "title": ""
    }
   },
   "outputs": [],
   "source": [
    "# =============================================================================\n",
    "# MEDAL EFFICIENCY TRANSFORMATION FUNCTION\n",
    "# =============================================================================\n",
    "\n",
    "def calculate_medal_efficiency(athletes_df, medals_df, config):\n",
    "    \"\"\"\n",
    "    Calculate medal efficiency metrics using centralized configuration.\n",
    "    \n",
    "    Args:\n",
    "        athletes_df: DataFrame with athlete data\n",
    "        medals_df: DataFrame with medal data\n",
    "        config: Configuration object with thresholds\n",
    "        \n",
    "    Returns:\n",
    "        DataFrame with efficiency metrics\n",
    "    \"\"\"\n",
    "    try:\n",
    "        logger.info(\"Calculating medal efficiency metrics...\")\n",
    "\n",
    "        #Counting the Total Atheletes per country\n",
    "        athletes_count = athletes_df.groupBy('Country').agg(\n",
    "            count('PersonName').alias('TotalAtheletes')\n",
    "        )\n",
    "        logger.info(f\"Calculated athlete count for {athletes_count.count()} countries.\")\n",
    "\n",
    "        #joining the athletes count with medals_df\n",
    "        combined_data=athletes_count.join(\n",
    "            broadcast(medals_df), \n",
    "            col(\"Country\") == col(\"TeamCountry\"), \n",
    "            \"inner\"\n",
    "        )\n",
    "        logger.info(f\"Joined data for {combined_data.count()} countries.\")\n",
    "        \n",
    "        #Calculate Medal Efficiency Metrics using thresholds\n",
    "        medal_efficiency = combined_data.withColumn(\n",
    "            \"MedalsPerAthlete\", \n",
    "            when(col(\"Total\") == 0, lit(0.0))\n",
    "            .otherwise(\n",
    "                round((col(\"Total\") / col(\"TotalAtheletes\")), 3)\n",
    "            ).withColumn(\n",
    "                \"MedalEfficiencyScore\",\n",
    "                when(col(\"MedalsPerAthlete\") >= config.MEDAL_EFFICIENCY_HIGH, \"High\")\n",
    "                .when(col(\"MedalsPerAthlete\") >= config.MEDAL_EFFICIENCY_MEDIUM, \"Medium\")\n",
    "                .otherwise(\"low\")\n",
    "            ).select(\n",
    "                \"Country\", \n",
    "                \"TotalAtheletes\",\n",
    "                \"Gold\",\n",
    "                \"Silver\",\n",
    "                \"Bronze\", \n",
    "                \"Total\", \n",
    "                \"MedalsPerAthlete\", \n",
    "                \"MedalEfficiencyScore\"\n",
    "            )\n",
    "        )\n",
    "\n",
    "        #Applying Caching\n",
    "        if config.CACHE_DATAFRAMES:\n",
    "            medal_efficiency.cache()\n",
    "            logger.info(\"Medal Efficiency DataFrame cached.\")\n",
    "            \n",
    "        logger.info(f\"Medal Efficiency calculated for {medal_efficiency.count()} countries\")\n",
    "        return medal_efficiency\n",
    "    \n",
    "    except Exception as e:\n",
    "        logger.error(f\"Error calculating medal efficiency metrics: {str(e)}\")\n",
    "        raise\n",
    "    \n",
    "print(\"Medal Efficiency Transformation Function Loaded\")"
   ]
  }
 ],
 "metadata": {
  "application/vnd.databricks.v1+notebook": {
   "computePreferences": null,
   "dashboards": [],
   "environmentMetadata": {
    "base_environment": "",
    "environment_version": "2"
   },
   "inputWidgetPreferences": null,
   "language": "python",
   "notebookMetadata": {
    "pythonIndentUnit": 4
   },
   "notebookName": "03_medal_efficiency_transformation",
   "widgets": {}
  },
  "language_info": {
   "name": "python"
  }
 },
 "nbformat": 4,
 "nbformat_minor": 0
}
