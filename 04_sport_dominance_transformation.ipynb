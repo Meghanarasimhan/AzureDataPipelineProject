{
 "cells": [
  {
   "cell_type": "code",
   "execution_count": 0,
   "metadata": {
    "application/vnd.databricks.v1+cell": {
     "cellMetadata": {
      "byteLimit": 2048000,
      "rowLimit": 10000
     },
     "inputWidgets": {},
     "nuid": "9c7563e2-c466-4ce7-97ce-912030e1aec0",
     "showTitle": false,
     "tableResultSettingsMap": {},
     "title": ""
    }
   },
   "outputs": [],
   "source": [
    "import sys\n",
    "sys.path.append('/Workspace/Users/pmanoj@depaul.edu')\n",
    "from pyspark.sql.functions import *\n",
    "from pyspark.sql.window import Window\n",
    "import logging\n",
    "\n",
    "logging.basicConfig(level=logging.INFO)\n",
    "logger = logging.getLogger(__name__)\n"
   ]
  },
  {
   "cell_type": "code",
   "execution_count": 0,
   "metadata": {
    "application/vnd.databricks.v1+cell": {
     "cellMetadata": {
      "byteLimit": 2048000,
      "rowLimit": 10000
     },
     "inputWidgets": {},
     "nuid": "e734bc15-be9d-4613-a41c-a41d4a301822",
     "showTitle": false,
     "tableResultSettingsMap": {},
     "title": ""
    }
   },
   "outputs": [],
   "source": [
    "%run \"./02_data_loaders\""
   ]
  },
  {
   "cell_type": "code",
   "execution_count": 0,
   "metadata": {
    "application/vnd.databricks.v1+cell": {
     "cellMetadata": {
      "byteLimit": 2048000,
      "rowLimit": 10000
     },
     "inputWidgets": {},
     "nuid": "727feb78-fd58-4de0-803a-3489cb61182d",
     "showTitle": false,
     "tableResultSettingsMap": {},
     "title": ""
    }
   },
   "outputs": [],
   "source": [
    "def calculate_sport_dominance(athletes_df, config):\n",
    "    \"\"\"\n",
    "    Calculates the sport dominance of each country.\n",
    "    \"\"\"\n",
    "    try:\n",
    "        logger.info(\"Calculating Sports Dominance for all Countries\")\n",
    "\n",
    "        AthletesCountInSport = athletes_df.groupBy(\"Country\", \"Discipline\").agg(\n",
    "            count(\"PersonName\").alias(\"AthletesCountInEachSport\")\n",
    "        )\n",
    "        TotalAthletesCount = athletes_df.groupBy(\"Country\").agg(\n",
    "            count(\"PersonName\").alias(\"TotalAthletesCount\")\n",
    "        )\n",
    "        \n",
    "        SportsDominanceEfficiency = AthletesCountInSport.join(\n",
    "            TotalAthletesCount, on=\"Country\", how = \"inner\"\n",
    "        ).withColumn(\n",
    "            \"SportDominanceEfficiencyPercent\",\n",
    "            round( col(\"AthletesCountInEachSport\")/col(\"TotalAthletesCount\") * 100\n",
    "                  ,2)\n",
    "        ).withColumn(\n",
    "            \"IsSpecialized\",\n",
    "            when (col(\"SportDominanceEfficiencyPercent\") >= 25, True).otherwise(False)\n",
    "        ).withColumn(\n",
    "            \"StrategyType\",\n",
    "            when( col(\"SportDominanceEfficiencyPercent\") >= 50,\"High Risk/High Reward\")\n",
    "            .when( col(\"SportDominanceEfficiencyPercent\") >= 30, \"Focused Strategy\")\n",
    "            .when( col(\"SportDominanceEfficiencyPercent\") >= 25, \"Balanced Approach\")\n",
    "            .otherwise(\"Diversified Strategy\")\n",
    "        ).select(\n",
    "            \"Country\",\n",
    "            \"Discipline\",\n",
    "            \"AthletesCountInEachSport\",\n",
    "            \"TotalAthletesCount\",\n",
    "            \"SportDominanceEfficiencyPercent\",\n",
    "            \"IsSpecialized\",\n",
    "            \"StrategyType\"\n",
    "        )\n",
    "        if config.CACHE_DATAFRAMES:\n",
    "            SportsDominanceEfficiency.cache()\n",
    "            logger.info(\"Sports Dominance Efficiency cached\")\n",
    "        \n",
    "        logger.info(f\"sports dominance Efficiency calculated for {SportsDominanceEfficiency.count()} countries\")\n",
    "        return SportsDominanceEfficiency\n",
    "\n",
    "    except Exception as e:\n",
    "        logger.error(f\"Error calculating sport dominance: {e}\")\n",
    "        raise"
   ]
  },
  {
   "cell_type": "code",
   "execution_count": 0,
   "metadata": {
    "application/vnd.databricks.v1+cell": {
     "cellMetadata": {
      "byteLimit": 2048000,
      "rowLimit": 10000
     },
     "inputWidgets": {},
     "nuid": "a97b9728-522f-437a-aabe-6a9951d55716",
     "showTitle": false,
     "tableResultSettingsMap": {},
     "title": ""
    }
   },
   "outputs": [],
   "source": [
    "try:\n",
    "    sports_dominance_efficiency = calculate_sport_dominance(athletes_df, config)\n",
    "    \n",
    "    print(\"Top 10 countries with Highest Number of Atheletes and their Respective sport\")\n",
    "    sports_dominance_efficiency.select(\"Country\", \"Discipline\", \"AthletesCountInEachSport\").orderBy(col(\"AthletesCountInEachSport\").desc()).show(10)\n",
    "    \n",
    "    print(\"Top 10 Sport Dominant Countries and their Strategy type\")\n",
    "    sports_dominance_efficiency.select(\"Country\", \"Discipline\",\"SportDominanceEfficiencyPercent\", \"StrategyType\").orderBy(col(\"SportDominanceEfficiencyPercent\").desc()).show(10)\n",
    "\n",
    "    print(\"Sport Dominance efficiency pipelines sucessfully completed\")\n",
    "\n",
    "except Exception as e:\n",
    "    logger.error(f\"Error calculating sport dominance: {e}\")\n",
    "    raise"
   ]
  }
 ],
 "metadata": {
  "application/vnd.databricks.v1+notebook": {
   "computePreferences": null,
   "dashboards": [],
   "environmentMetadata": {
    "base_environment": "",
    "environment_version": "2"
   },
   "inputWidgetPreferences": null,
   "language": "python",
   "notebookMetadata": {
    "pythonIndentUnit": 4
   },
   "notebookName": "04_sport_dominance_transformation",
   "widgets": {}
  },
  "language_info": {
   "name": "python"
  }
 },
 "nbformat": 4,
 "nbformat_minor": 0
}
